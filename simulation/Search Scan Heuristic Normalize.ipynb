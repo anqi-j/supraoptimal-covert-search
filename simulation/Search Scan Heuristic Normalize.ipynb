{
 "cells": [
  {
   "cell_type": "code",
   "execution_count": null,
   "metadata": {},
   "outputs": [],
   "source": [
    "import numpy as np\n",
    "import pandas as pd\n",
    "from pathlib import Path\n",
    "from scipy.io import loadmat\n",
    "from scipy.stats import norm, pearsonr\n",
    "from scipy.integrate import quad\n",
    "import pickle\n",
    "from sklearn.metrics import confusion_matrix\n",
    "from skimage.metrics import structural_similarity"
   ]
  },
  {
   "cell_type": "code",
   "execution_count": null,
   "metadata": {},
   "outputs": [],
   "source": [
    "import matplotlib.pyplot as plt\n",
    "import seaborn as sns\n",
    "from matplotlib.colors import hsv_to_rgb\n",
    "from matplotlib.patches import Circle"
   ]
  },
  {
   "cell_type": "code",
   "execution_count": null,
   "metadata": {},
   "outputs": [],
   "source": [
    "from bayesee.evaluation import *\n",
    "from bayesee.perception import *"
   ]
  },
  {
   "cell_type": "code",
   "execution_count": null,
   "metadata": {},
   "outputs": [],
   "source": [
    "%load_ext autoreload\n",
    "%autoreload 2\n",
    "plt.style.use('bayesee.academic')"
   ]
  },
  {
   "cell_type": "code",
   "execution_count": null,
   "metadata": {},
   "outputs": [],
   "source": [
    "repo_path = Path.cwd().parents[0]\n",
    "print(repo_path)"
   ]
  },
  {
   "cell_type": "code",
   "execution_count": null,
   "metadata": {},
   "outputs": [],
   "source": [
    "n_location = 19\n",
    "n_trial = 10000\n",
    "local_ecc = np.array([0, *[4,]*6, *[6.9295,]*6, *[8,]*6])"
   ]
  },
  {
   "cell_type": "code",
   "execution_count": null,
   "metadata": {},
   "outputs": [],
   "source": [
    "array_p0 = np.array([0, 0.5])\n",
    "array_d0 = np.array([3,4.5,6,7.5,9])\n",
    "array_ed = np.array([7])\n",
    "# array_d0 = np.array([6])\n",
    "# array_ed = np.array([1,3,5,7,9])\n",
    "array_e_p0 = np.array([0, 0.5])\n",
    "array_e_d0 = np.array([3.9, 6.9])\n",
    "array_e_ed = np.array([7,1e10])"
   ]
  },
  {
   "cell_type": "code",
   "execution_count": null,
   "metadata": {},
   "outputs": [],
   "source": [
    "for p0 in array_p0:\n",
    "    for d0 in array_d0:\n",
    "        for ed in array_ed:\n",
    "            for e_p0 in array_e_p0:\n",
    "                for e_d0 in array_e_d0:\n",
    "                    for e_ed in array_e_ed:\n",
    "                        stimulus_df = pd.DataFrame()\n",
    "                        response_df = pd.DataFrame()\n",
    "                        metadata = {}\n",
    "                        if e_ed == 1e10:\n",
    "                            model = f'h1_p0_{p0:.1f}_d0_{d0:.1f}_ed_{ed:.1f}_e_p0_{e_p0:.1f}_e_d0_{e_d0:.1f}_e_ed_inf'.replace('.', 'p')\n",
    "                        else:\n",
    "                            model = f'h1_p0_{p0:.1f}_d0_{d0:.1f}_ed_{ed:.1f}_e_p0_{e_p0:.1f}_e_d0_{e_d0:.1f}_e_ed_{e_ed:.1f}'.replace('.', 'p')\n",
    "                            \n",
    "                        metadata['p0'] = p0\n",
    "                        metadata['d0'] = d0\n",
    "                        metadata['ed'] = ed\n",
    "                        metadata['e_p0'] = e_p0\n",
    "                        metadata['e_d0'] = e_d0\n",
    "                        metadata['e_ed'] = e_ed\n",
    "                        \n",
    "                        prior = np.array((p0, *(((1-p0) / (n_location),) * (n_location))))\n",
    "                        e_prior = np.array((e_p0, *(((1-e_p0) / (n_location),) * (n_location))))\n",
    "                        \n",
    "                        if e_prior[0] == 0:\n",
    "                            with np.errstate(divide = 'ignore'):\n",
    "                                log_prior_ratio = np.log(e_prior)\n",
    "                        else:\n",
    "                            log_prior_ratio = np.log(e_prior / e_prior[0])\n",
    "                            \n",
    "                        log_likelihood_ratio = np.zeros_like(prior)\n",
    "\n",
    "                        model_target = np.random.choice(range(n_location+1), size=n_trial, p=prior)\n",
    "                        model_response = np.zeros_like(model_target)\n",
    "                        \n",
    "                        local_dp = d0 * ed / (local_ecc + ed)\n",
    "                        e_local_dp = e_d0 * e_ed / (local_ecc + e_ed)\n",
    "                        \n",
    "                        for index_trial in range(n_trial):\n",
    "                            array_standard_normal = np.random.normal(size=(n_location,))\n",
    "                            \n",
    "                            log_likelihood_ratio[1:] = e_local_dp**2 * (\n",
    "                                array_standard_normal / local_dp - 1 / 2\n",
    "                            )\n",
    "\n",
    "                            if model_target[index_trial] > 0:\n",
    "                                log_likelihood_ratio[model_target[index_trial]] += (\n",
    "                                    e_local_dp[model_target[index_trial] - 1]**2\n",
    "                                )\n",
    "\n",
    "                            log_posterior_ratio = log_prior_ratio + log_likelihood_ratio\n",
    "                            model_response[index_trial] = np.argmax(log_posterior_ratio)\n",
    "                            \n",
    "                        stimulus_df['location'] = model_target.round()\n",
    "                        response_df['response_location'] = model_response.round()\n",
    "                            \n",
    "                        file_name = repo_path / f\"data/search/covert/heuristic/{model}.pickle\"\n",
    "                        stimulus = {\"df\": stimulus_df, \"metadata\": metadata}\n",
    "                        response = {\"df\": response_df}\n",
    "\n",
    "                        with open(file_name, \"wb\") as f:\n",
    "                            pickle.dump((stimulus, response), f)"
   ]
  }
 ],
 "metadata": {
  "kernelspec": {
   "display_name": "bayesee",
   "language": "python",
   "name": "python3"
  },
  "language_info": {
   "codemirror_mode": {
    "name": "ipython",
    "version": 3
   },
   "file_extension": ".py",
   "mimetype": "text/x-python",
   "name": "python",
   "nbconvert_exporter": "python",
   "pygments_lexer": "ipython3",
   "version": "3.11.3"
  },
  "orig_nbformat": 4
 },
 "nbformat": 4,
 "nbformat_minor": 2
}
