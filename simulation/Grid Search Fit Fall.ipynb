{
 "cells": [
  {
   "cell_type": "code",
   "execution_count": null,
   "metadata": {},
   "outputs": [],
   "source": [
    "import numpy as np\n",
    "import pandas as pd\n",
    "from pathlib import Path\n",
    "from scipy.io import loadmat\n",
    "from scipy.stats import norm, pearsonr\n",
    "from scipy.integrate import quad\n",
    "import pickle\n",
    "from sklearn.metrics import confusion_matrix\n",
    "from skimage.metrics import structural_similarity"
   ]
  },
  {
   "cell_type": "code",
   "execution_count": null,
   "metadata": {},
   "outputs": [],
   "source": [
    "import matplotlib.pyplot as plt\n",
    "import seaborn as sns\n",
    "from matplotlib.colors import hsv_to_rgb\n",
    "from matplotlib.patches import Circle"
   ]
  },
  {
   "cell_type": "code",
   "execution_count": null,
   "metadata": {},
   "outputs": [],
   "source": [
    "from bayesee.evaluation import *\n",
    "from bayesee.perception import *"
   ]
  },
  {
   "cell_type": "code",
   "execution_count": null,
   "metadata": {},
   "outputs": [],
   "source": [
    "%load_ext autoreload\n",
    "%autoreload 2\n",
    "plt.style.use('bayesee.academic')"
   ]
  },
  {
   "cell_type": "code",
   "execution_count": null,
   "metadata": {},
   "outputs": [],
   "source": [
    "repo_path = Path.cwd().parents[0]\n",
    "print(repo_path)"
   ]
  },
  {
   "cell_type": "code",
   "execution_count": null,
   "metadata": {},
   "outputs": [],
   "source": [
    "n_location = 19\n",
    "n_trial = 5000\n",
    "n_init = 3\n",
    "\n",
    "local_ecc = np.array([0, *[4,]*6, *[6.9295,]*6, *[8,]*6])\n",
    "\n",
    "prior = np.array((0.5, *((0.5 / (n_location),) * (n_location))))\n",
    "assert np.allclose(prior.sum(), 1.0)\n",
    "\n",
    "e_prior = prior.copy()\n",
    "assert np.allclose(e_prior.sum(), 1.0)\n",
    "\n",
    "log_prior_ratio = np.log(e_prior / e_prior[0])\n",
    "log_likelihood_ratio = np.zeros_like(prior)\n",
    "\n",
    "model_target = np.random.choice(range(n_location+1), size=n_trial, p=prior)\n",
    "model_response = np.zeros_like(model_target)"
   ]
  },
  {
   "cell_type": "code",
   "execution_count": null,
   "metadata": {},
   "outputs": [],
   "source": [
    "def cost_function(x, array_d0, array_ed):\n",
    "    # x[0]: d' peak\n",
    "    # x[1]: d' fall-off\n",
    "\n",
    "    cost = 0\n",
    "    \n",
    "    e_local_dp = x[0] * x[1] / (local_ecc + x[1])\n",
    "    \n",
    "    for d0 in array_d0:\n",
    "        for ed in array_ed:\n",
    "    \n",
    "            local_dp = d0 * ed / (local_ecc + ed)\n",
    "            \n",
    "            for index_trial in range(n_trial):\n",
    "\n",
    "                array_standard_normal = np.random.normal(size=(n_location,))\n",
    "                \n",
    "                log_likelihood_ratio[1:] = e_local_dp * (\n",
    "                    array_standard_normal - e_local_dp / 2\n",
    "                )\n",
    "\n",
    "                if model_target[index_trial] > 0:\n",
    "                    log_likelihood_ratio[model_target[index_trial]] += (\n",
    "                        e_local_dp[model_target[index_trial] - 1]\n",
    "                        * local_dp[model_target[index_trial] - 1]\n",
    "                    )\n",
    "\n",
    "                log_posterior_ratio = log_prior_ratio + log_likelihood_ratio\n",
    "                model_response[index_trial] = np.argmax(log_posterior_ratio)\n",
    "                \n",
    "                if model_response[index_trial] == model_target[index_trial]:\n",
    "                    cost -= 1\n",
    "\n",
    "    return cost / (len(array_d0) * len(array_ed) * n_trial)"
   ]
  },
  {
   "cell_type": "code",
   "execution_count": null,
   "metadata": {},
   "outputs": [],
   "source": [
    "opt_results = pd.DataFrame(columns=[\"dp0\", \"ed\", \"cost\", \"nfunc\", \"niter\"])\n",
    "bounds = [(1,9), (6.6, 6.6)]\n",
    "array_d0 = [3, 4.5, 6, 7.5, 9]\n",
    "array_ed = [1,3,5,7,9]\n",
    "\n",
    "for index_init in range(n_init):\n",
    "    init = [(bound[1] - bound[0]) * np.random.rand() + bound[0] for bound in bounds]\n",
    "    \n",
    "    results = minimize(\n",
    "        cost_function,\n",
    "        init,\n",
    "        args=(array_d0, array_ed),\n",
    "        bounds=bounds,\n",
    "        method=\"Powell\",\n",
    "    )\n",
    "    \n",
    "    row_result = [ *results.x, results.fun, results.nfev, results.nit]    \n",
    "    \n",
    "    if index_init == 0:\n",
    "        opt_results.loc[0] = row_result\n",
    "    elif results.fun < opt_results.iloc[-1][\"cost\"]:\n",
    "        opt_results.loc[len(opt_results)] = row_result\n",
    "        \n",
    "    print(f\"{index_init+1}/{n_init}\")\n",
    "\n",
    "row_result = opt_results.iloc[-1].values\n",
    "print(f\"| {-row_result[-3]:.5f} | {row_result[0]:.3f} | {row_result[1]:.3f} |\")"
   ]
  }
 ],
 "metadata": {
  "kernelspec": {
   "display_name": "bayesee",
   "language": "python",
   "name": "python3"
  },
  "language_info": {
   "codemirror_mode": {
    "name": "ipython",
    "version": 3
   },
   "file_extension": ".py",
   "mimetype": "text/x-python",
   "name": "python",
   "nbconvert_exporter": "python",
   "pygments_lexer": "ipython3",
   "version": "3.11.3"
  },
  "orig_nbformat": 4
 },
 "nbformat": 4,
 "nbformat_minor": 2
}
